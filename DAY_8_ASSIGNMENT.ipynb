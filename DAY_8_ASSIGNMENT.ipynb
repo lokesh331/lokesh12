{
  "nbformat": 4,
  "nbformat_minor": 0,
  "metadata": {
    "colab": {
      "provenance": [],
      "mount_file_id": "1VgQJVeE2kUq54uz6Tg6xh1_HVLj2ISYD",
      "authorship_tag": "ABX9TyOtFjSRhMIca2MBaCJ2LkCw",
      "include_colab_link": true
    },
    "kernelspec": {
      "name": "python3",
      "display_name": "Python 3"
    },
    "language_info": {
      "name": "python"
    }
  },
  "cells": [
    {
      "cell_type": "markdown",
      "metadata": {
        "id": "view-in-github",
        "colab_type": "text"
      },
      "source": [
        "<a href=\"https://colab.research.google.com/github/lokesh331/lokesh12/blob/main/DAY_8_ASSIGNMENT.ipynb\" target=\"_parent\"><img src=\"https://colab.research.google.com/assets/colab-badge.svg\" alt=\"Open In Colab\"/></a>"
      ]
    },
    {
      "cell_type": "code",
      "source": [
        "#day8\n",
        "#Question 1\n",
        "\n",
        "import pandas as pd\n",
        "df = pd.read_csv(r'/content/drive/MyDrive/lokesh/Day_8_sales_data.csv')\n",
        "print(\"Column names in the dataset:\")\n",
        "print(df.columns)\n",
        "df.columns = df.columns.str.strip()\n",
        "print(\"Column names after stripping:\")\n",
        "print(df.columns)\n",
        "specific_region = 'North'\n",
        "if 'sales' in df.columns and 'region' in df.columns:\n",
        "    filtered_sales = df[df['sales'] > 1000]\n",
        "    specific_region_sales = filtered_sales[filtered_sales['region'] == specific_region]\n",
        "    print(f\"Sales greater than 1000 for region '{specific_region}':\")\n",
        "    print(specific_region_sales)\n",
        "else:\n",
        "    print(\"Error: Required columns 'sales' or 'region' not found in the dataset.\")"
      ],
      "metadata": {
        "id": "I3LEDhTh1FR5",
        "colab": {
          "base_uri": "https://localhost:8080/"
        },
        "outputId": "806c287a-1321-4f91-b9cb-8d7ef3adc18a"
      },
      "execution_count": null,
      "outputs": [
        {
          "output_type": "stream",
          "name": "stdout",
          "text": [
            "Column names in the dataset:\n",
            "Index(['Date', 'Product', 'Region', 'Sales', 'Profit', 'Quantity'], dtype='object')\n",
            "Column names after stripping:\n",
            "Index(['Date', 'Product', 'Region', 'Sales', 'Profit', 'Quantity'], dtype='object')\n",
            "Error: Required columns 'sales' or 'region' not found in the dataset.\n"
          ]
        }
      ]
    },
    {
      "cell_type": "code",
      "source": [
        "#day8\n",
        "#Question 2\n",
        "import pandas as pd\n",
        "\n",
        "df = pd.read_csv(r'/content/drive/MyDrive/lokesh/Day_8_sales_data.csv')\n",
        "print(\"Column names in the dataset:\")\n",
        "print(df.columns)\n",
        "df.columns = df.columns.str.strip()\n",
        "print(\"Column names after stripping:\")\n",
        "print(df.columns)\n",
        "specific_region = 'North'\n",
        "if 'sales' in df.columns and 'region' in df.columns and 'Profit' in df.columns and 'Quantity' in df.columns:\n",
        "    df['Profit_Per_Unit'] = df['Profit'] / df['Quantity']\n",
        "    df['High_Sales'] = df['Sales'].apply(lambda x: 'Yes' if x > 1000 else 'No')\n",
        "    filtered_sales = df[df['sales'] > 1000]\n",
        "    specific_region_sales = filtered_sales[filtered_sales['region'] == specific_region]\n",
        "    print(f\"Sales greater than 1000 for region '{specific_region}':\")\n",
        "    print(specific_region_sales)\n",
        "else:\n",
        "    print(\"Error: Required columns 'sales', 'region', 'Profit', or 'Quantity' not found in the dataset.\")"
      ],
      "metadata": {
        "colab": {
          "base_uri": "https://localhost:8080/"
        },
        "id": "WAPctZN4Oqkp",
        "outputId": "14223914-19d7-4fdf-ac9e-d774cc0f806c"
      },
      "execution_count": 1,
      "outputs": [
        {
          "output_type": "stream",
          "name": "stdout",
          "text": [
            "Column names in the dataset:\n",
            "Index(['Date', 'Product', 'Region', 'Sales', 'Profit', 'Quantity'], dtype='object')\n",
            "Column names after stripping:\n",
            "Index(['Date', 'Product', 'Region', 'Sales', 'Profit', 'Quantity'], dtype='object')\n",
            "Error: Required columns 'sales', 'region', 'Profit', or 'Quantity' not found in the dataset.\n"
          ]
        }
      ]
    }
  ]
}
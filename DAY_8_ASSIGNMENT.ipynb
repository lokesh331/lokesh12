{
  "nbformat": 4,
  "nbformat_minor": 0,
  "metadata": {
    "colab": {
      "provenance": [],
      "mount_file_id": "1VgQJVeE2kUq54uz6Tg6xh1_HVLj2ISYD",
      "authorship_tag": "ABX9TyPcsoNjZy1rNp+lzPCx0c97",
      "include_colab_link": true
    },
    "kernelspec": {
      "name": "python3",
      "display_name": "Python 3"
    },
    "language_info": {
      "name": "python"
    }
  },
  "cells": [
    {
      "cell_type": "markdown",
      "metadata": {
        "id": "view-in-github",
        "colab_type": "text"
      },
      "source": [
        "<a href=\"https://colab.research.google.com/github/lokesh331/lokesh12/blob/main/DAY_8_ASSIGNMENT.ipynb\" target=\"_parent\"><img src=\"https://colab.research.google.com/assets/colab-badge.svg\" alt=\"Open In Colab\"/></a>"
      ]
    },
    {
      "cell_type": "code",
      "source": [
        "#day8\n",
        "#Question 1\n",
        "\n",
        "import pandas as pd\n",
        "df = pd.read_csv(r'/content/drive/MyDrive/lokesh/Day_8_sales_data.csv')\n",
        "print(\"Column names in the dataset:\")\n",
        "print(df.columns)\n",
        "df.columns = df.columns.str.strip()\n",
        "print(\"Column names after stripping:\")\n",
        "print(df.columns)\n",
        "specific_region = 'North'\n",
        "if 'sales' in df.columns and 'region' in df.columns:\n",
        "    filtered_sales = df[df['sales'] > 1000]\n",
        "    specific_region_sales = filtered_sales[filtered_sales['region'] == specific_region]\n",
        "    print(f\"Sales greater than 1000 for region '{specific_region}':\")\n",
        "    print(specific_region_sales)\n",
        "else:\n",
        "    print(\"Error: Required columns 'sales' or 'region' not found in the dataset.\")"
      ],
      "metadata": {
        "id": "I3LEDhTh1FR5",
        "colab": {
          "base_uri": "https://localhost:8080/"
        },
        "outputId": "806c287a-1321-4f91-b9cb-8d7ef3adc18a"
      },
      "execution_count": null,
      "outputs": [
        {
          "output_type": "stream",
          "name": "stdout",
          "text": [
            "Column names in the dataset:\n",
            "Index(['Date', 'Product', 'Region', 'Sales', 'Profit', 'Quantity'], dtype='object')\n",
            "Column names after stripping:\n",
            "Index(['Date', 'Product', 'Region', 'Sales', 'Profit', 'Quantity'], dtype='object')\n",
            "Error: Required columns 'sales' or 'region' not found in the dataset.\n"
          ]
        }
      ]
    }
  ]
}
{
  "nbformat": 4,
  "nbformat_minor": 0,
  "metadata": {
    "colab": {
      "provenance": [],
      "authorship_tag": "ABX9TyN685Zmutpn7t//d7I88SI1",
      "include_colab_link": true
    },
    "kernelspec": {
      "name": "python3",
      "display_name": "Python 3"
    },
    "language_info": {
      "name": "python"
    }
  },
  "cells": [
    {
      "cell_type": "markdown",
      "metadata": {
        "id": "view-in-github",
        "colab_type": "text"
      },
      "source": [
        "<a href=\"https://colab.research.google.com/github/lokesh331/lokesh12/blob/main/DAY_5_ASSIGNMENT.ipynb\" target=\"_parent\"><img src=\"https://colab.research.google.com/assets/colab-badge.svg\" alt=\"Open In Colab\"/></a>"
      ]
    },
    {
      "cell_type": "code",
      "source": [
        "def main():\n",
        "    n = int(input(\"Enter a positive integer: \"))\n",
        "    print(\"Numbers from 1 to\", n, \":\")\n",
        "    for i in range(1, n + 1):\n",
        "        print(i)\n",
        "\n",
        "    total = 0\n",
        "    i = 1\n",
        "    while i <= n:\n",
        "        total += i\n",
        "        i += 1\n",
        "\n",
        "    print(f\"The sum of all numbers from 1 to {n} is: {total}\")\n",
        "\n",
        "if __name__ == \"__main__\":\n",
        "    main()\n"
      ],
      "metadata": {
        "colab": {
          "base_uri": "https://localhost:8080/"
        },
        "id": "T4SHhhIANAZX",
        "outputId": "8fa84dd7-84c5-4515-f4f7-ff9bd472ab91"
      },
      "execution_count": 5,
      "outputs": [
        {
          "output_type": "stream",
          "name": "stdout",
          "text": [
            "Enter a positive integer: 48\n",
            "Numbers from 1 to 48 :\n",
            "1\n",
            "2\n",
            "3\n",
            "4\n",
            "5\n",
            "6\n",
            "7\n",
            "8\n",
            "9\n",
            "10\n",
            "11\n",
            "12\n",
            "13\n",
            "14\n",
            "15\n",
            "16\n",
            "17\n",
            "18\n",
            "19\n",
            "20\n",
            "21\n",
            "22\n",
            "23\n",
            "24\n",
            "25\n",
            "26\n",
            "27\n",
            "28\n",
            "29\n",
            "30\n",
            "31\n",
            "32\n",
            "33\n",
            "34\n",
            "35\n",
            "36\n",
            "37\n",
            "38\n",
            "39\n",
            "40\n",
            "41\n",
            "42\n",
            "43\n",
            "44\n",
            "45\n",
            "46\n",
            "47\n",
            "48\n",
            "The sum of all numbers from 1 to 48 is: 1176\n"
          ]
        }
      ]
    },
    {
      "cell_type": "code",
      "source": [
        "def calculate_square(n):\n",
        "    return n * n\n",
        "\n",
        "def main():\n",
        "    number = int(input(\"Enter a positive integer: \"))\n",
        "    square = calculate_square(number)\n",
        "    print(f\"The square of {number} is: {square}\")\n",
        "\n",
        "if __name__ == \"__main__\":\n",
        "    main()\n"
      ],
      "metadata": {
        "colab": {
          "base_uri": "https://localhost:8080/"
        },
        "id": "VETPFWCdM98h",
        "outputId": "71e2d8ad-b419-4e97-8d07-71d148a84c38"
      },
      "execution_count": 7,
      "outputs": [
        {
          "output_type": "stream",
          "name": "stdout",
          "text": [
            "Enter a positive integer: 2\n",
            "The square of 2 is: 4\n"
          ]
        }
      ]
    }
  ]
}
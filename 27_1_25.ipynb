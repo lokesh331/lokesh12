{
  "nbformat": 4,
  "nbformat_minor": 0,
  "metadata": {
    "colab": {
      "provenance": [],
      "authorship_tag": "ABX9TyMFfJxUhdheOSPq3heLW8B+",
      "include_colab_link": true
    },
    "kernelspec": {
      "name": "python3",
      "display_name": "Python 3"
    },
    "language_info": {
      "name": "python"
    }
  },
  "cells": [
    {
      "cell_type": "markdown",
      "metadata": {
        "id": "view-in-github",
        "colab_type": "text"
      },
      "source": [
        "<a href=\"https://colab.research.google.com/github/lokesh331/lokesh12/blob/main/27_1_25.ipynb\" target=\"_parent\"><img src=\"https://colab.research.google.com/assets/colab-badge.svg\" alt=\"Open In Colab\"/></a>"
      ]
    },
    {
      "cell_type": "code",
      "source": [
        "import pandas as pd\n",
        "from sklearn.preprocessing import MinMaxScaler\n",
        "data = {\n",
        "    \"Age\": [12, 34, 56, 78, 90],\n",
        "    \"Height\": [120, 130, 140, 150, 160],\n",
        "    \"Salary\": [12000, 13000, 14000, 15000, 16000]\n",
        "}\n",
        "df = pd.DataFrame(data)\n",
        "scaler = MinMaxScaler()\n",
        "normalized_data = scaler.fit_transform(df)\n",
        "normalized_df = pd.DataFrame(normalized_data, columns=df.columns)\n",
        "print(\"\\nNormalized DataFrame (scaled to range [0,1]):\")\n",
        "print(normalized_df)\n"
      ],
      "metadata": {
        "colab": {
          "base_uri": "https://localhost:8080/"
        },
        "id": "IBdzx-e9LaXL",
        "outputId": "4c5835a8-e0c0-4a57-eebd-b894f7049ebf"
      },
      "execution_count": 2,
      "outputs": [
        {
          "output_type": "stream",
          "name": "stdout",
          "text": [
            "\n",
            "Normalized DataFrame (scaled to range [0,1]):\n",
            "        Age  Height  Salary\n",
            "0  0.000000    0.00    0.00\n",
            "1  0.282051    0.25    0.25\n",
            "2  0.564103    0.50    0.50\n",
            "3  0.846154    0.75    0.75\n",
            "4  1.000000    1.00    1.00\n"
          ]
        }
      ]
    }
  ]
}
{
  "nbformat": 4,
  "nbformat_minor": 0,
  "metadata": {
    "colab": {
      "provenance": [],
      "authorship_tag": "ABX9TyPoGQCmvX8wDc9Cak14iv7C",
      "include_colab_link": true
    },
    "kernelspec": {
      "name": "python3",
      "display_name": "Python 3"
    },
    "language_info": {
      "name": "python"
    }
  },
  "cells": [
    {
      "cell_type": "markdown",
      "metadata": {
        "id": "view-in-github",
        "colab_type": "text"
      },
      "source": [
        "<a href=\"https://colab.research.google.com/github/lokesh331/lokesh12/blob/main/DAY_2_ASSIGNMENT.ipynb\" target=\"_parent\"><img src=\"https://colab.research.google.com/assets/colab-badge.svg\" alt=\"Open In Colab\"/></a>"
      ]
    },
    {
      "cell_type": "code",
      "execution_count": 1,
      "metadata": {
        "colab": {
          "base_uri": "https://localhost:8080/"
        },
        "id": "g-DyuEdEKuQA",
        "outputId": "7887e322-d1f8-48d5-e17f-99aaba046b74"
      },
      "outputs": [
        {
          "output_type": "stream",
          "name": "stdout",
          "text": [
            "List Example:\n",
            "Element at index 0: 10\n",
            "Element at index 2: 30\n",
            "Element at index 4: 50\n",
            "\n",
            "Tuple Example:\n",
            "Element at index 1: 15\n",
            "Element at index 3: 35\n",
            "\n",
            "Dictionary Example:\n",
            "Name: Alice\n",
            "City: New York\n",
            "Hobby: Reading\n"
          ]
        }
      ],
      "source": [
        "my_list = [10, 20, 30, 40, 50]\n",
        "print(\"List Example:\")\n",
        "print(\"Element at index 0:\", my_list[0])\n",
        "print(\"Element at index 2:\", my_list[2])\n",
        "print(\"Element at index 4:\", my_list[4])\n",
        "my_tuple = (5, 15, 25, 35, 45)\n",
        "print(\"\\nTuple Example:\")\n",
        "print(\"Element at index 1:\", my_tuple[1])\n",
        "print(\"Element at index 3:\", my_tuple[3])\n",
        "my_dict = {\n",
        "    'name': 'Alice',\n",
        "    'age': 25,\n",
        "    'city': 'New York',\n",
        "    'job': 'Engineer',\n",
        "    'hobby': 'Reading'\n",
        "}\n",
        "print(\"\\nDictionary Example:\")\n",
        "print(\"Name:\", my_dict['name'])\n",
        "print(\"City:\", my_dict['city'])\n",
        "print(\"Hobby:\", my_dict['hobby'])"
      ]
    }
  ]
}
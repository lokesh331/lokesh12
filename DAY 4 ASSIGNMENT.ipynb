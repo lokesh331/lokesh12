{
  "nbformat": 4,
  "nbformat_minor": 0,
  "metadata": {
    "colab": {
      "provenance": [],
      "authorship_tag": "ABX9TyPZQDzIz2dvtX5md/q3+Z6l",
      "include_colab_link": true
    },
    "kernelspec": {
      "name": "python3",
      "display_name": "Python 3"
    },
    "language_info": {
      "name": "python"
    }
  },
  "cells": [
    {
      "cell_type": "markdown",
      "metadata": {
        "id": "view-in-github",
        "colab_type": "text"
      },
      "source": [
        "<a href=\"https://colab.research.google.com/github/lokesh331/lokesh12/blob/main/DAY%204%20ASSIGNMENT.ipynb\" target=\"_parent\"><img src=\"https://colab.research.google.com/assets/colab-badge.svg\" alt=\"Open In Colab\"/></a>"
      ]
    },
    {
      "cell_type": "code",
      "execution_count": 3,
      "metadata": {
        "colab": {
          "base_uri": "https://localhost:8080/"
        },
        "id": "tDNvw34ELyap",
        "outputId": "f560c5bc-a5cc-437a-f835-8b11efe59fc6"
      },
      "outputs": [
        {
          "output_type": "stream",
          "name": "stdout",
          "text": [
            "Enter a positive integer: 24\n",
            "The sum of all even numbers between 1 and 24 is: 156\n"
          ]
        }
      ],
      "source": [
        "def sum_of_evens(n):\n",
        "    total = 0\n",
        "    for number in range(2, n + 1, 2):\n",
        "        total += number\n",
        "    return total\n",
        "\n",
        "def main():\n",
        "    n = int(input(\"Enter a positive integer: \"))\n",
        "    even_sum = sum_of_evens(n)\n",
        "    print(f\"The sum of all even numbers between 1 and {n} is: {even_sum}\")\n",
        "\n",
        "if __name__ == \"__main__\":\n",
        "    main()\n"
      ]
    }
  ]
}
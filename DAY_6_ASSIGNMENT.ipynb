{
  "nbformat": 4,
  "nbformat_minor": 0,
  "metadata": {
    "colab": {
      "provenance": [],
      "authorship_tag": "ABX9TyOVpklPKBWuo/1KoqEPgy8w",
      "include_colab_link": true
    },
    "kernelspec": {
      "name": "python3",
      "display_name": "Python 3"
    },
    "language_info": {
      "name": "python"
    }
  },
  "cells": [
    {
      "cell_type": "markdown",
      "metadata": {
        "id": "view-in-github",
        "colab_type": "text"
      },
      "source": [
        "<a href=\"https://colab.research.google.com/github/lokesh331/lokesh12/blob/main/DAY_6_ASSIGNMENT.ipynb\" target=\"_parent\"><img src=\"https://colab.research.google.com/assets/colab-badge.svg\" alt=\"Open In Colab\"/></a>"
      ]
    },
    {
      "cell_type": "code",
      "source": [
        "#Question 1\n",
        "import pandas as pd\n",
        "data = {\n",
        "    'Name': ['John', 'Alice', 'Bob', 'Diana'],\n",
        "    'Age': [28, 34, 23, 29],\n",
        "    'Department': ['HR', 'IT', 'Marketing', 'Finance'],\n",
        "    'Salary': [45000, 60000, 35000, 50000]\n",
        "}\n",
        "\n",
        "df = pd.DataFrame(data)\n",
        "print(df)"
      ],
      "metadata": {
        "colab": {
          "base_uri": "https://localhost:8080/"
        },
        "id": "v8nsgi-_QJQo",
        "outputId": "c4d43551-d0d2-43ba-f3e5-13c4c0cd62e4"
      },
      "execution_count": 8,
      "outputs": [
        {
          "output_type": "stream",
          "name": "stdout",
          "text": [
            "    Name  Age Department  Salary\n",
            "0   John   28         HR   45000\n",
            "1  Alice   34         IT   60000\n",
            "2    Bob   23  Marketing   35000\n",
            "3  Diana   29    Finance   50000\n"
          ]
        }
      ]
    },
    {
      "cell_type": "code",
      "source": [
        "#Question 2\n",
        "import pandas as pd\n",
        "data = {\n",
        "    'Name': ['John', 'Alice', 'Bob', 'Diana'],\n",
        "    'Age': [28, 34, 23, 29],\n",
        "    'Department': ['HR', 'IT', 'Marketing', 'Finance'],\n",
        "    'Salary': [45000, 60000, 35000, 50000]\n",
        "}\n",
        "\n",
        "df = pd.DataFrame(data)\n",
        "print(\"First 2 rows of the DataFrame:\")\n",
        "print(df.head(2))\n",
        "\n",
        "\n",
        "df['Bonus'] = df['Salary'] * 0.10\n",
        "print(\"\\nDataFrame after adding 'Bonus' column:\")\n",
        "print(df)\n",
        "\n",
        "\n",
        "average_salary = df['Salary'].mean()\n",
        "print(f\"\\nThe average salary of employees is: {average_salary}\")\n",
        "\n",
        "\n",
        "filtered_df = df[df['Age'] > 25]\n",
        "print(\"\\nEmployees who are older than 25:\")\n",
        "print(filtered_df)"
      ],
      "metadata": {
        "colab": {
          "base_uri": "https://localhost:8080/"
        },
        "id": "7Vxb9WzvQPFF",
        "outputId": "b98bfb76-eae9-43e1-9971-f4208e54b1ca"
      },
      "execution_count": 9,
      "outputs": [
        {
          "output_type": "stream",
          "name": "stdout",
          "text": [
            "First 2 rows of the DataFrame:\n",
            "    Name  Age Department  Salary\n",
            "0   John   28         HR   45000\n",
            "1  Alice   34         IT   60000\n",
            "\n",
            "DataFrame after adding 'Bonus' column:\n",
            "    Name  Age Department  Salary   Bonus\n",
            "0   John   28         HR   45000  4500.0\n",
            "1  Alice   34         IT   60000  6000.0\n",
            "2    Bob   23  Marketing   35000  3500.0\n",
            "3  Diana   29    Finance   50000  5000.0\n",
            "\n",
            "The average salary of employees is: 47500.0\n",
            "\n",
            "Employees who are older than 25:\n",
            "    Name  Age Department  Salary   Bonus\n",
            "0   John   28         HR   45000  4500.0\n",
            "1  Alice   34         IT   60000  6000.0\n",
            "3  Diana   29    Finance   50000  5000.0\n"
          ]
        }
      ]
    }
  ]
}
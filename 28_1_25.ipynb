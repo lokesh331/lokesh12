{
  "nbformat": 4,
  "nbformat_minor": 0,
  "metadata": {
    "colab": {
      "provenance": [],
      "authorship_tag": "ABX9TyP/AKWNVmvYCnwplYlPcZec",
      "include_colab_link": true
    },
    "kernelspec": {
      "name": "python3",
      "display_name": "Python 3"
    },
    "language_info": {
      "name": "python"
    }
  },
  "cells": [
    {
      "cell_type": "markdown",
      "metadata": {
        "id": "view-in-github",
        "colab_type": "text"
      },
      "source": [
        "<a href=\"https://colab.research.google.com/github/lokesh331/lokesh12/blob/main/28_1_25.ipynb\" target=\"_parent\"><img src=\"https://colab.research.google.com/assets/colab-badge.svg\" alt=\"Open In Colab\"/></a>"
      ]
    },
    {
      "cell_type": "code",
      "source": [
        "import pandas as pd\n",
        "from sklearn.preprocessing import LabelEncoder\n",
        "data = {\n",
        "    \"Customer details\": [23, 45, 67, 89],\n",
        "    \"Gender\": [\"Male\", \"Female\", \"Female\", \"Male\"],\n",
        "    \"Location\": [\"Siddipet\", \"Dornakal\", \"Khammam\", \"Warangal\"],\n",
        "    \"Village\": [\"Siddipet\",\"Kondamrajpally\",\"Khata\",\"ittapalli\"]\n",
        "    }\n",
        "df = pd.DataFrame(data)\n",
        "print(\"Original DataFrame:\")\n",
        "print(df)\n",
        "label_encoder = LabelEncoder()\n",
        "df[\"Gender\"] = label_encoder.fit_transform(df[\"Gender\"])\n",
        "df[\"Location\"] = label_encoder.fit_transform(df[\"Location\"])\n",
        "df[\"Village\"] = label_encoder.fit_transform(df[\"Village\"])\n",
        "print(\"\\nDataFrame after Label Encoding:\")\n",
        "print(df)\n"
      ],
      "metadata": {
        "colab": {
          "base_uri": "https://localhost:8080/"
        },
        "id": "WVU7PBVAWDYi",
        "outputId": "e81da79c-7eec-4601-93b0-8dc46aa2e4ed"
      },
      "execution_count": 9,
      "outputs": [
        {
          "output_type": "stream",
          "name": "stdout",
          "text": [
            "Original DataFrame:\n",
            "   Customer details  Gender  Location         Village\n",
            "0                23    Male  Siddipet        Siddipet\n",
            "1                45  Female  Dornakal  Kondamrajpally\n",
            "2                67  Female   Khammam           Khata\n",
            "3                89    Male  Warangal       ittapalli\n",
            "\n",
            "DataFrame after Label Encoding:\n",
            "   Customer details  Gender  Location  Village\n",
            "0                23       1         2        2\n",
            "1                45       0         0        1\n",
            "2                67       0         1        0\n",
            "3                89       1         3        3\n"
          ]
        }
      ]
    },
    {
      "cell_type": "code",
      "source": [
        "import pandas as pd\n",
        "from sklearn.preprocessing import OneHotEncoder\n",
        "\n",
        "data = {\n",
        "    \"Customer details\": [23, 45, 67, 89],\n",
        "    \"Gender\": [\"Male\", \"Female\", \"Female\", \"Male\"],\n",
        "    \"Location\": [\"Siddipet\", \"Dornakal\", \"Khammam\", \"Warangal\"],\n",
        "    \"Village\": [\"Siddipet\",\"Kondamrajpally\",\"Khata\",\"ittapalli\"]\n",
        "}\n",
        "df = pd.DataFrame(data)\n",
        "print(\"Original DataFrame:\")\n",
        "print(df)\n",
        "\n",
        "one_hot_encoder = OneHotEncoder(sparse_output=False)\n",
        "encoded_data = one_hot_encoder.fit_transform(df[[\"Gender\", \"Location\",\"Village\"]])\n",
        "encoded_columns = one_hot_encoder.get_feature_names_out([\"Gender\", \"Location\",\"Village\"])\n",
        "encoded_df = pd.DataFrame(encoded_data, columns=encoded_columns)\n",
        "print(\"\\nDataFrame after One Hot Encoding:\")\n",
        "print(encoded_df)\n"
      ],
      "metadata": {
        "colab": {
          "base_uri": "https://localhost:8080/"
        },
        "id": "F_IjoxEcbrXh",
        "outputId": "a1e8ead4-6cc6-40ce-db0a-6f23f5d3a723"
      },
      "execution_count": 11,
      "outputs": [
        {
          "output_type": "stream",
          "name": "stdout",
          "text": [
            "Original DataFrame:\n",
            "   Customer details  Gender  Location         Village\n",
            "0                23    Male  Siddipet        Siddipet\n",
            "1                45  Female  Dornakal  Kondamrajpally\n",
            "2                67  Female   Khammam           Khata\n",
            "3                89    Male  Warangal       ittapalli\n",
            "\n",
            "DataFrame after One Hot Encoding:\n",
            "   Gender_Female  Gender_Male  Location_Dornakal  Location_Khammam  \\\n",
            "0            0.0          1.0                0.0               0.0   \n",
            "1            1.0          0.0                1.0               0.0   \n",
            "2            1.0          0.0                0.0               1.0   \n",
            "3            0.0          1.0                0.0               0.0   \n",
            "\n",
            "   Location_Siddipet  Location_Warangal  Village_Khata  \\\n",
            "0                1.0                0.0            0.0   \n",
            "1                0.0                0.0            0.0   \n",
            "2                0.0                0.0            1.0   \n",
            "3                0.0                1.0            0.0   \n",
            "\n",
            "   Village_Kondamrajpally  Village_Siddipet  Village_ittapalli  \n",
            "0                     0.0               1.0                0.0  \n",
            "1                     1.0               0.0                0.0  \n",
            "2                     0.0               0.0                0.0  \n",
            "3                     0.0               0.0                1.0  \n"
          ]
        }
      ]
    },
    {
      "cell_type": "code",
      "source": [
        "import pandas as pd\n",
        "from sklearn.preprocessing import LabelEncoder\n",
        "\n",
        "data = {\n",
        "    \"StudentMarks\": [23, 45, 67, 89],\n",
        "    \"Rank\": [\"rank1\", \"rank2\", \"rank3\", \"rank4\"]\n",
        "}\n",
        "df = pd.DataFrame(data)\n",
        "print(\"Original DataFrame:\")\n",
        "print(df)\n",
        "rank_mapping = {\"rank1\": 4, \"rank2\": 3, \"rank3\": 2,\"rank4\": 1}\n",
        "df[\"Rank\"] = df[\"Rank\"].map(rank_mapping)\n",
        "print(\"\\nDataFrame after Ranking Encoding:\")\n",
        "print(df)\n"
      ],
      "metadata": {
        "colab": {
          "base_uri": "https://localhost:8080/"
        },
        "id": "5cUjnmL1fZmz",
        "outputId": "fdd10573-56b6-4263-c066-1bff9b89e4a2"
      },
      "execution_count": 8,
      "outputs": [
        {
          "output_type": "stream",
          "name": "stdout",
          "text": [
            "Original DataFrame:\n",
            "   StudentMarks   Rank\n",
            "0            23  rank1\n",
            "1            45  rank2\n",
            "2            67  rank3\n",
            "3            89  rank4\n",
            "\n",
            "DataFrame after Ranking Encoding:\n",
            "   StudentMarks  Rank\n",
            "0            23     4\n",
            "1            45     3\n",
            "2            67     2\n",
            "3            89     1\n"
          ]
        }
      ]
    },
    {
      "cell_type": "code",
      "source": [],
      "metadata": {
        "id": "jNzB8UxYg0KV"
      },
      "execution_count": null,
      "outputs": []
    }
  ]
}